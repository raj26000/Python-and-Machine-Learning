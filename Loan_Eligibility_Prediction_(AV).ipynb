{
  "nbformat": 4,
  "nbformat_minor": 0,
  "metadata": {
    "colab": {
      "name": "Loan_Eligibility_Prediction (AV)",
      "provenance": [],
      "authorship_tag": "ABX9TyPjU5tdX+hP69xoAFK/eDgo",
      "include_colab_link": true
    },
    "kernelspec": {
      "name": "python3",
      "display_name": "Python 3"
    }
  },
  "cells": [
    {
      "cell_type": "markdown",
      "metadata": {
        "id": "view-in-github",
        "colab_type": "text"
      },
      "source": [
        "<a href=\"https://colab.research.google.com/github/raj26000/Python-and-Machine-Learning/blob/main/Loan_Eligibility_Prediction_(AV).ipynb\" target=\"_parent\"><img src=\"https://colab.research.google.com/assets/colab-badge.svg\" alt=\"Open In Colab\"/></a>"
      ]
    },
    {
      "cell_type": "markdown",
      "metadata": {
        "id": "FxBtVZBFpWk2"
      },
      "source": [
        "# I. Importing Libraries and Loading Data"
      ]
    },
    {
      "cell_type": "code",
      "metadata": {
        "id": "_T4bDqIzEMM4"
      },
      "source": [
        "import pandas as pd\n",
        "import matplotlib.pyplot as plt\n",
        "import seaborn as sns\n",
        "from sklearn.ensemble import RandomForestClassifier\n",
        "from xgboost import XGBClassifier\n",
        "from sklearn.preprocessing import MinMaxScaler\n",
        "from sklearn.preprocessing import LabelEncoder\n",
        "from sklearn.model_selection import GridSearchCV\n",
        "from sklearn.metrics import accuracy_score, roc_auc_score, make_scorer\n",
        "from google.colab import files"
      ],
      "execution_count": 96,
      "outputs": []
    },
    {
      "cell_type": "code",
      "metadata": {
        "colab": {
          "base_uri": "https://localhost:8080/"
        },
        "id": "XuZVWZP1BFJy",
        "outputId": "9398dfc0-4e20-4322-ca90-0f07277fed79"
      },
      "source": [
        "from google.colab import drive\n",
        "drive.mount('/content/drive/')"
      ],
      "execution_count": 1,
      "outputs": [
        {
          "output_type": "stream",
          "text": [
            "Mounted at /content/drive/\n"
          ],
          "name": "stdout"
        }
      ]
    },
    {
      "cell_type": "code",
      "metadata": {
        "colab": {
          "base_uri": "https://localhost:8080/",
          "height": 419
        },
        "id": "x2HUqp8kEK5h",
        "outputId": "a41f8823-81fc-4ded-dd3b-9c42fa0e669c"
      },
      "source": [
        "train_path = '/content/drive/MyDrive/train_ctrUa4K.csv'\n",
        "test_path = '/content/drive/MyDrive/test_lAUu6dG.csv'\n",
        "train_data = pd.read_csv(train_path)\n",
        "test_data = pd.read_csv(test_path)\n",
        "train_data"
      ],
      "execution_count": 66,
      "outputs": [
        {
          "output_type": "execute_result",
          "data": {
            "text/html": [
              "<div>\n",
              "<style scoped>\n",
              "    .dataframe tbody tr th:only-of-type {\n",
              "        vertical-align: middle;\n",
              "    }\n",
              "\n",
              "    .dataframe tbody tr th {\n",
              "        vertical-align: top;\n",
              "    }\n",
              "\n",
              "    .dataframe thead th {\n",
              "        text-align: right;\n",
              "    }\n",
              "</style>\n",
              "<table border=\"1\" class=\"dataframe\">\n",
              "  <thead>\n",
              "    <tr style=\"text-align: right;\">\n",
              "      <th></th>\n",
              "      <th>Loan_ID</th>\n",
              "      <th>Gender</th>\n",
              "      <th>Married</th>\n",
              "      <th>Dependents</th>\n",
              "      <th>Education</th>\n",
              "      <th>Self_Employed</th>\n",
              "      <th>ApplicantIncome</th>\n",
              "      <th>CoapplicantIncome</th>\n",
              "      <th>LoanAmount</th>\n",
              "      <th>Loan_Amount_Term</th>\n",
              "      <th>Credit_History</th>\n",
              "      <th>Property_Area</th>\n",
              "      <th>Loan_Status</th>\n",
              "    </tr>\n",
              "  </thead>\n",
              "  <tbody>\n",
              "    <tr>\n",
              "      <th>0</th>\n",
              "      <td>LP001002</td>\n",
              "      <td>Male</td>\n",
              "      <td>No</td>\n",
              "      <td>0</td>\n",
              "      <td>Graduate</td>\n",
              "      <td>No</td>\n",
              "      <td>5849</td>\n",
              "      <td>0.0</td>\n",
              "      <td>NaN</td>\n",
              "      <td>360.0</td>\n",
              "      <td>1.0</td>\n",
              "      <td>Urban</td>\n",
              "      <td>Y</td>\n",
              "    </tr>\n",
              "    <tr>\n",
              "      <th>1</th>\n",
              "      <td>LP001003</td>\n",
              "      <td>Male</td>\n",
              "      <td>Yes</td>\n",
              "      <td>1</td>\n",
              "      <td>Graduate</td>\n",
              "      <td>No</td>\n",
              "      <td>4583</td>\n",
              "      <td>1508.0</td>\n",
              "      <td>128.0</td>\n",
              "      <td>360.0</td>\n",
              "      <td>1.0</td>\n",
              "      <td>Rural</td>\n",
              "      <td>N</td>\n",
              "    </tr>\n",
              "    <tr>\n",
              "      <th>2</th>\n",
              "      <td>LP001005</td>\n",
              "      <td>Male</td>\n",
              "      <td>Yes</td>\n",
              "      <td>0</td>\n",
              "      <td>Graduate</td>\n",
              "      <td>Yes</td>\n",
              "      <td>3000</td>\n",
              "      <td>0.0</td>\n",
              "      <td>66.0</td>\n",
              "      <td>360.0</td>\n",
              "      <td>1.0</td>\n",
              "      <td>Urban</td>\n",
              "      <td>Y</td>\n",
              "    </tr>\n",
              "    <tr>\n",
              "      <th>3</th>\n",
              "      <td>LP001006</td>\n",
              "      <td>Male</td>\n",
              "      <td>Yes</td>\n",
              "      <td>0</td>\n",
              "      <td>Not Graduate</td>\n",
              "      <td>No</td>\n",
              "      <td>2583</td>\n",
              "      <td>2358.0</td>\n",
              "      <td>120.0</td>\n",
              "      <td>360.0</td>\n",
              "      <td>1.0</td>\n",
              "      <td>Urban</td>\n",
              "      <td>Y</td>\n",
              "    </tr>\n",
              "    <tr>\n",
              "      <th>4</th>\n",
              "      <td>LP001008</td>\n",
              "      <td>Male</td>\n",
              "      <td>No</td>\n",
              "      <td>0</td>\n",
              "      <td>Graduate</td>\n",
              "      <td>No</td>\n",
              "      <td>6000</td>\n",
              "      <td>0.0</td>\n",
              "      <td>141.0</td>\n",
              "      <td>360.0</td>\n",
              "      <td>1.0</td>\n",
              "      <td>Urban</td>\n",
              "      <td>Y</td>\n",
              "    </tr>\n",
              "    <tr>\n",
              "      <th>...</th>\n",
              "      <td>...</td>\n",
              "      <td>...</td>\n",
              "      <td>...</td>\n",
              "      <td>...</td>\n",
              "      <td>...</td>\n",
              "      <td>...</td>\n",
              "      <td>...</td>\n",
              "      <td>...</td>\n",
              "      <td>...</td>\n",
              "      <td>...</td>\n",
              "      <td>...</td>\n",
              "      <td>...</td>\n",
              "      <td>...</td>\n",
              "    </tr>\n",
              "    <tr>\n",
              "      <th>609</th>\n",
              "      <td>LP002978</td>\n",
              "      <td>Female</td>\n",
              "      <td>No</td>\n",
              "      <td>0</td>\n",
              "      <td>Graduate</td>\n",
              "      <td>No</td>\n",
              "      <td>2900</td>\n",
              "      <td>0.0</td>\n",
              "      <td>71.0</td>\n",
              "      <td>360.0</td>\n",
              "      <td>1.0</td>\n",
              "      <td>Rural</td>\n",
              "      <td>Y</td>\n",
              "    </tr>\n",
              "    <tr>\n",
              "      <th>610</th>\n",
              "      <td>LP002979</td>\n",
              "      <td>Male</td>\n",
              "      <td>Yes</td>\n",
              "      <td>3+</td>\n",
              "      <td>Graduate</td>\n",
              "      <td>No</td>\n",
              "      <td>4106</td>\n",
              "      <td>0.0</td>\n",
              "      <td>40.0</td>\n",
              "      <td>180.0</td>\n",
              "      <td>1.0</td>\n",
              "      <td>Rural</td>\n",
              "      <td>Y</td>\n",
              "    </tr>\n",
              "    <tr>\n",
              "      <th>611</th>\n",
              "      <td>LP002983</td>\n",
              "      <td>Male</td>\n",
              "      <td>Yes</td>\n",
              "      <td>1</td>\n",
              "      <td>Graduate</td>\n",
              "      <td>No</td>\n",
              "      <td>8072</td>\n",
              "      <td>240.0</td>\n",
              "      <td>253.0</td>\n",
              "      <td>360.0</td>\n",
              "      <td>1.0</td>\n",
              "      <td>Urban</td>\n",
              "      <td>Y</td>\n",
              "    </tr>\n",
              "    <tr>\n",
              "      <th>612</th>\n",
              "      <td>LP002984</td>\n",
              "      <td>Male</td>\n",
              "      <td>Yes</td>\n",
              "      <td>2</td>\n",
              "      <td>Graduate</td>\n",
              "      <td>No</td>\n",
              "      <td>7583</td>\n",
              "      <td>0.0</td>\n",
              "      <td>187.0</td>\n",
              "      <td>360.0</td>\n",
              "      <td>1.0</td>\n",
              "      <td>Urban</td>\n",
              "      <td>Y</td>\n",
              "    </tr>\n",
              "    <tr>\n",
              "      <th>613</th>\n",
              "      <td>LP002990</td>\n",
              "      <td>Female</td>\n",
              "      <td>No</td>\n",
              "      <td>0</td>\n",
              "      <td>Graduate</td>\n",
              "      <td>Yes</td>\n",
              "      <td>4583</td>\n",
              "      <td>0.0</td>\n",
              "      <td>133.0</td>\n",
              "      <td>360.0</td>\n",
              "      <td>0.0</td>\n",
              "      <td>Semiurban</td>\n",
              "      <td>N</td>\n",
              "    </tr>\n",
              "  </tbody>\n",
              "</table>\n",
              "<p>614 rows × 13 columns</p>\n",
              "</div>"
            ],
            "text/plain": [
              "      Loan_ID  Gender Married  ... Credit_History Property_Area Loan_Status\n",
              "0    LP001002    Male      No  ...            1.0         Urban           Y\n",
              "1    LP001003    Male     Yes  ...            1.0         Rural           N\n",
              "2    LP001005    Male     Yes  ...            1.0         Urban           Y\n",
              "3    LP001006    Male     Yes  ...            1.0         Urban           Y\n",
              "4    LP001008    Male      No  ...            1.0         Urban           Y\n",
              "..        ...     ...     ...  ...            ...           ...         ...\n",
              "609  LP002978  Female      No  ...            1.0         Rural           Y\n",
              "610  LP002979    Male     Yes  ...            1.0         Rural           Y\n",
              "611  LP002983    Male     Yes  ...            1.0         Urban           Y\n",
              "612  LP002984    Male     Yes  ...            1.0         Urban           Y\n",
              "613  LP002990  Female      No  ...            0.0     Semiurban           N\n",
              "\n",
              "[614 rows x 13 columns]"
            ]
          },
          "metadata": {
            "tags": []
          },
          "execution_count": 66
        }
      ]
    },
    {
      "cell_type": "markdown",
      "metadata": {
        "id": "TD5nKWdZpkcY"
      },
      "source": [
        "# II. Data Preprocessing and EDA"
      ]
    },
    {
      "cell_type": "code",
      "metadata": {
        "colab": {
          "base_uri": "https://localhost:8080/"
        },
        "id": "kFAxELE-ELAN",
        "outputId": "e6063527-bc96-4bc5-d567-a7b594f367ce"
      },
      "source": [
        "#Checking for missing values in training and testing data\n",
        "print(train_data.isnull().sum())\n",
        "print(test_data.isnull().sum())"
      ],
      "execution_count": 67,
      "outputs": [
        {
          "output_type": "stream",
          "text": [
            "Loan_ID               0\n",
            "Gender               13\n",
            "Married               3\n",
            "Dependents           15\n",
            "Education             0\n",
            "Self_Employed        32\n",
            "ApplicantIncome       0\n",
            "CoapplicantIncome     0\n",
            "LoanAmount           22\n",
            "Loan_Amount_Term     14\n",
            "Credit_History       50\n",
            "Property_Area         0\n",
            "Loan_Status           0\n",
            "dtype: int64\n",
            "Loan_ID               0\n",
            "Gender               11\n",
            "Married               0\n",
            "Dependents           10\n",
            "Education             0\n",
            "Self_Employed        23\n",
            "ApplicantIncome       0\n",
            "CoapplicantIncome     0\n",
            "LoanAmount            5\n",
            "Loan_Amount_Term      6\n",
            "Credit_History       29\n",
            "Property_Area         0\n",
            "dtype: int64\n"
          ],
          "name": "stdout"
        }
      ]
    },
    {
      "cell_type": "code",
      "metadata": {
        "id": "dnkvV-YhELC_"
      },
      "source": [
        "#Imputing categorical missing values with mode and numerical ones with mean. \n",
        "#Since, percentage of missing values across all columns is small, no columns are dropped.\n",
        "train_data['Gender'].fillna(train_data['Gender'].mode()[0], inplace=True)\n",
        "train_data['Married'].fillna(train_data['Married'].mode()[0], inplace=True)\n",
        "train_data['Dependents'].fillna(train_data['Dependents'].mode()[0], inplace=True)\n",
        "train_data['Self_Employed'].fillna(train_data['Self_Employed'].mode()[0], inplace=True)\n",
        "train_data['LoanAmount'].fillna(train_data['LoanAmount'].mean(), inplace=True)\n",
        "train_data['Loan_Amount_Term'].fillna(train_data['Loan_Amount_Term'].mean(), inplace=True)\n",
        "train_data['Credit_History'].fillna(train_data['Credit_History'].mode()[0], inplace=True)\n",
        "\n",
        "test_data['Gender'].fillna(test_data['Gender'].mode()[0], inplace=True)\n",
        "test_data['Dependents'].fillna(test_data['Dependents'].mode()[0], inplace=True)\n",
        "test_data['Self_Employed'].fillna(test_data['Self_Employed'].mode()[0], inplace=True)\n",
        "test_data['LoanAmount'].fillna(test_data['LoanAmount'].mean(), inplace=True)\n",
        "test_data['Loan_Amount_Term'].fillna(test_data['Loan_Amount_Term'].mean(), inplace=True)\n",
        "test_data['Credit_History'].fillna(test_data['Credit_History'].mode()[0], inplace=True)"
      ],
      "execution_count": 68,
      "outputs": []
    },
    {
      "cell_type": "code",
      "metadata": {
        "colab": {
          "base_uri": "https://localhost:8080/",
          "height": 302
        },
        "id": "7p5Eo4cTELLl",
        "outputId": "381161ab-f35e-4392-8dcb-59e30674866b"
      },
      "source": [
        "#Exploratory Data Analysis on training data\n",
        "#Countplots for categorical features\n",
        "sns.set_theme()\n",
        "sns.countplot(x=train_data['Loan_Status'])"
      ],
      "execution_count": 69,
      "outputs": [
        {
          "output_type": "execute_result",
          "data": {
            "text/plain": [
              "<matplotlib.axes._subplots.AxesSubplot at 0x7fa884cb7860>"
            ]
          },
          "metadata": {
            "tags": []
          },
          "execution_count": 69
        },
        {
          "output_type": "display_data",
          "data": {
            "image/png": "[encoded data removed]",
            "text/plain": [
              "<Figure size 432x288 with 1 Axes>"
            ]
          },
          "metadata": {
            "tags": []
          }
        }
      ]
    },
    {
      "cell_type": "code",
      "metadata": {
        "colab": {
          "base_uri": "https://localhost:8080/",
          "height": 883
        },
        "id": "KgYIfhhwELRl",
        "outputId": "9c7eac2b-483d-4ab7-a136-7b7698bd9054"
      },
      "source": [
        "categorical = ['Gender', 'Married', 'Dependents', 'Education', 'Self_Employed', 'Credit_History', 'Property_Area']\n",
        "fig, ax = plt.subplots(4,2,figsize=(25,15))\n",
        "for var, subplot in zip(categorical, ax.flatten()):\n",
        "  sns.countplot(x=train_data[var], ax=subplot)"
      ],
      "execution_count": 70,
      "outputs": [
        {
          "output_type": "display_data",
          "data": {
            "image/png": "[encoded data removed]",
            "text/plain": [
              "<Figure size 1800x1080 with 8 Axes>"
            ]
          },
          "metadata": {
            "tags": []
          }
        }
      ]
    },
    {
      "cell_type": "code",
      "metadata": {
        "colab": {
          "base_uri": "https://localhost:8080/",
          "height": 967
        },
        "id": "x-PKfAaYELTO",
        "outputId": "bc16d23d-a45e-448e-f383-da571b04a7c2"
      },
      "source": [
        "#Histograms for numerical features.\n",
        "numerical = ['ApplicantIncome', 'CoapplicantIncome', 'LoanAmount', 'Loan_Amount_Term']\n",
        "train_data[numerical].hist(bins=25, figsize=(25,15), layout=(2,2))"
      ],
      "execution_count": 71,
      "outputs": [
        {
          "output_type": "execute_result",
          "data": {
            "text/plain": [
              "array([[<matplotlib.axes._subplots.AxesSubplot object at 0x7fa884e1dc50>,\n",
              "        <matplotlib.axes._subplots.AxesSubplot object at 0x7fa88463f9e8>],\n",
              "       [<matplotlib.axes._subplots.AxesSubplot object at 0x7fa883fe4240>,\n",
              "        <matplotlib.axes._subplots.AxesSubplot object at 0x7fa883f8e9b0>]],\n",
              "      dtype=object)"
            ]
          },
          "metadata": {
            "tags": []
          },
          "execution_count": 71
        },
        {
          "output_type": "display_data",
          "data": {
            "image/png": "[encoded data removed]",
            "text/plain": [
              "<Figure size 1800x1080 with 4 Axes>"
            ]
          },
          "metadata": {
            "tags": []
          }
        }
      ]
    },
    {
      "cell_type": "code",
      "metadata": {
        "colab": {
          "base_uri": "https://localhost:8080/",
          "height": 611
        },
        "id": "fbPuz8pMNIne",
        "outputId": "191db77b-1017-424e-8aa5-77090482d3e8"
      },
      "source": [
        "#Boxplots for showing relationship between numerical variables and categorical target variable\n",
        "fig, ax = plt.subplots(2,2,figsize=(25,10))\n",
        "for var, subplot in zip(numerical, ax.flatten()):\n",
        "  sns.boxplot(x=train_data['Loan_Status'], y=train_data[var], ax=subplot)\n",
        "#Small interquartile range of boxplot indicates a restricted range of values for numerical variables."
      ],
      "execution_count": 72,
      "outputs": [
        {
          "output_type": "display_data",
          "data": {
            "image/png": "[encoded data removed]",
            "text/plain": [
              "<Figure size 1800x720 with 4 Axes>"
            ]
          },
          "metadata": {
            "tags": []
          }
        }
      ]
    },
    {
      "cell_type": "code",
      "metadata": {
        "id": "gMHmm7-pNIqh"
      },
      "source": [
        "#Encoding categorical variables. Some of them are binary features, while those with multiple categories are ordinal features, hence no need of dummy encoding.\n",
        "encoder = LabelEncoder()\n",
        "for feature in categorical:\n",
        "  train_data[feature] = encoder.fit_transform(train_data[feature])\n",
        "  test_data[feature] = encoder.fit_transform(test_data[feature])\n",
        "train_data['Loan_Status'] = encoder.fit_transform(train_data['Loan_Status'])\n",
        "\n",
        "#Scaling numerical variables as: x = (x-min)/(max-min)\n",
        "X_train = pd.DataFrame()\n",
        "X_test = pd.DataFrame()\n",
        "for col in numerical:\n",
        "  X_train[col] = train_data[col]\n",
        "  X_test[col] = test_data[col]\n",
        "y_train = train_data.iloc[:,-1]\n",
        "scaler = MinMaxScaler()\n",
        "train_sc = scaler.fit_transform(X_train)\n",
        "test_sc = scaler.transform(X_test)\n",
        "X_train = pd.DataFrame(data=train_sc, columns=numerical)\n",
        "X_test = pd.DataFrame(data=test_sc, columns=numerical)\n",
        "for col in categorical:\n",
        "  X_train[col] = train_data[col]\n",
        "  X_test[col] = test_data[col]"
      ],
      "execution_count": 73,
      "outputs": []
    },
    {
      "cell_type": "markdown",
      "metadata": {
        "id": "4SEwBu35rk62"
      },
      "source": [
        "# III. Model Training"
      ]
    },
    {
      "cell_type": "code",
      "metadata": {
        "colab": {
          "base_uri": "https://localhost:8080/"
        },
        "id": "M1NowS5BNI35",
        "outputId": "894e387f-858a-4be8-cd56-a7d5378c9123"
      },
      "source": [
        "#Training RandomForest Classifier, with GridSearch Cross validation\n",
        "clf = RandomForestClassifier()\n",
        "param_grid = {'n_estimators':[100,200,300], 'criterion':['gini','entropy'], 'max_depth':[20,30,None], 'min_samples_split':[2,3,4]}\n",
        "grid = GridSearchCV(estimator=clf, param_grid=param_grid, cv=5, n_jobs=-1, scoring=make_scorer(roc_auc_score))\n",
        "cv_res = grid.fit(X_train, y_train)\n",
        "print(cv_res.cv_results_)\n",
        "print(cv_res.best_params_)"
      ],
      "execution_count": 86,
      "outputs": [
        {
          "output_type": "stream",
          "text": [
            "{'mean_fit_time': array([0.28592191, 0.5466939 , 0.80561337, 0.26809402, 0.53924737,\n",
            "       0.80401893, 0.26659994, 0.5375771 , 0.81198134, 0.27508955,\n",
            "       0.54914379, 0.81392632, 0.274752  , 0.55511332, 0.81999431,\n",
            "       0.27395568, 0.55145273, 0.79909678, 0.27375584, 0.54120874,\n",
            "       0.81164436, 0.27677336, 0.53625393, 0.8190074 , 0.26824818,\n",
            "       0.53689814, 0.79830537, 0.30753613, 0.60725842, 0.91430211,\n",
            "       0.30985284, 0.604286  , 0.91107635, 0.31205668, 0.60327005,\n",
            "       0.9033134 , 0.30634713, 0.62070785, 0.92493491, 0.30696869,\n",
            "       0.60600643, 0.90766625, 0.30281687, 0.61535463, 0.90523739,\n",
            "       0.3040061 , 0.61081696, 0.91004848, 0.30467644, 0.61579218,\n",
            "       0.91929941, 0.29989629, 0.60481472, 0.85555096]), 'std_fit_time': array([0.02378256, 0.01455585, 0.0106507 , 0.00161259, 0.0067504 ,\n",
            "       0.00531797, 0.00410273, 0.00497192, 0.01300898, 0.00541667,\n",
            "       0.0151637 , 0.00815094, 0.00522791, 0.01462212, 0.01087392,\n",
            "       0.00591588, 0.02118943, 0.00702918, 0.00464809, 0.01207891,\n",
            "       0.01234632, 0.01080456, 0.00691997, 0.01220899, 0.00466695,\n",
            "       0.00960721, 0.00563959, 0.00585032, 0.01031687, 0.01235917,\n",
            "       0.00674367, 0.00601713, 0.01310401, 0.00609295, 0.00945292,\n",
            "       0.00512373, 0.00367463, 0.01789949, 0.00811224, 0.00536006,\n",
            "       0.00983836, 0.00539954, 0.0103548 , 0.01643527, 0.0101301 ,\n",
            "       0.00069629, 0.01320473, 0.00804103, 0.00937176, 0.00943977,\n",
            "       0.01095491, 0.00496032, 0.00977816, 0.0900159 ]), 'mean_score_time': array([0.01946912, 0.03465514, 0.04880452, 0.01882453, 0.03432031,\n",
            "       0.04968476, 0.01964483, 0.03281937, 0.05102692, 0.01926746,\n",
            "       0.03583555, 0.05060115, 0.01973314, 0.03521576, 0.05044327,\n",
            "       0.01872454, 0.03620605, 0.04891305, 0.02023616, 0.03493414,\n",
            "       0.05004082, 0.01869102, 0.03443389, 0.05058565, 0.01928596,\n",
            "       0.03504767, 0.05089602, 0.02013168, 0.03398042, 0.05578713,\n",
            "       0.01831756, 0.03507819, 0.04938555, 0.01972547, 0.03399506,\n",
            "       0.04899631, 0.0193151 , 0.034937  , 0.04985847, 0.01935682,\n",
            "       0.03293982, 0.04969273, 0.02091107, 0.03413281, 0.04925008,\n",
            "       0.01866765, 0.03457961, 0.04860682, 0.0183188 , 0.03364997,\n",
            "       0.05170722, 0.01810708, 0.03369632, 0.04398122]), 'std_score_time': array([0.00170209, 0.00074174, 0.00094647, 0.00042289, 0.0010763 ,\n",
            "       0.00084073, 0.00231272, 0.00033748, 0.00133401, 0.00032809,\n",
            "       0.00344059, 0.00091996, 0.00130035, 0.00324417, 0.00134552,\n",
            "       0.00060589, 0.00234771, 0.00111716, 0.00196215, 0.00125529,\n",
            "       0.00146134, 0.00068632, 0.00167365, 0.00131915, 0.00056995,\n",
            "       0.00040202, 0.0032756 , 0.00150725, 0.00130816, 0.00436597,\n",
            "       0.00027614, 0.00119358, 0.00091369, 0.00131026, 0.00158507,\n",
            "       0.00102445, 0.00071901, 0.00080381, 0.00054427, 0.0004337 ,\n",
            "       0.00098089, 0.0009864 , 0.00226555, 0.00103063, 0.00053613,\n",
            "       0.00026306, 0.00075125, 0.00104447, 0.00022512, 0.00158207,\n",
            "       0.00271298, 0.00028612, 0.00108429, 0.00799893]), 'param_criterion': masked_array(data=['gini', 'gini', 'gini', 'gini', 'gini', 'gini', 'gini',\n",
            "                   'gini', 'gini', 'gini', 'gini', 'gini', 'gini', 'gini',\n",
            "                   'gini', 'gini', 'gini', 'gini', 'gini', 'gini', 'gini',\n",
            "                   'gini', 'gini', 'gini', 'gini', 'gini', 'gini',\n",
            "                   'entropy', 'entropy', 'entropy', 'entropy', 'entropy',\n",
            "                   'entropy', 'entropy', 'entropy', 'entropy', 'entropy',\n",
            "                   'entropy', 'entropy', 'entropy', 'entropy', 'entropy',\n",
            "                   'entropy', 'entropy', 'entropy', 'entropy', 'entropy',\n",
            "                   'entropy', 'entropy', 'entropy', 'entropy', 'entropy',\n",
            "                   'entropy', 'entropy'],\n",
            "             mask=[False, False, False, False, False, False, False, False,\n",
            "                   False, False, False, False, False, False, False, False,\n",
            "                   False, False, False, False, False, False, False, False,\n",
            "                   False, False, False, False, False, False, False, False,\n",
            "                   False, False, False, False, False, False, False, False,\n",
            "                   False, False, False, False, False, False, False, False,\n",
            "                   False, False, False, False, False, False],\n",
            "       fill_value='?',\n",
            "            dtype=object), 'param_max_depth': masked_array(data=[20, 20, 20, 20, 20, 20, 20, 20, 20, 30, 30, 30, 30, 30,\n",
            "                   30, 30, 30, 30, None, None, None, None, None, None,\n",
            "                   None, None, None, 20, 20, 20, 20, 20, 20, 20, 20, 20,\n",
            "                   30, 30, 30, 30, 30, 30, 30, 30, 30, None, None, None,\n",
            "                   None, None, None, None, None, None],\n",
            "             mask=[False, False, False, False, False, False, False, False,\n",
            "                   False, False, False, False, False, False, False, False,\n",
            "                   False, False, False, False, False, False, False, False,\n",
            "                   False, False, False, False, False, False, False, False,\n",
            "                   False, False, False, False, False, False, False, False,\n",
            "                   False, False, False, False, False, False, False, False,\n",
            "                   False, False, False, False, False, False],\n",
            "       fill_value='?',\n",
            "            dtype=object), 'param_min_samples_split': masked_array(data=[2, 2, 2, 3, 3, 3, 4, 4, 4, 2, 2, 2, 3, 3, 3, 4, 4, 4,\n",
            "                   2, 2, 2, 3, 3, 3, 4, 4, 4, 2, 2, 2, 3, 3, 3, 4, 4, 4,\n",
            "                   2, 2, 2, 3, 3, 3, 4, 4, 4, 2, 2, 2, 3, 3, 3, 4, 4, 4],\n",
            "             mask=[False, False, False, False, False, False, False, False,\n",
            "                   False, False, False, False, False, False, False, False,\n",
            "                   False, False, False, False, False, False, False, False,\n",
            "                   False, False, False, False, False, False, False, False,\n",
            "                   False, False, False, False, False, False, False, False,\n",
            "                   False, False, False, False, False, False, False, False,\n",
            "                   False, False, False, False, False, False],\n",
            "       fill_value='?',\n",
            "            dtype=object), 'param_n_estimators': masked_array(data=[100, 200, 300, 100, 200, 300, 100, 200, 300, 100, 200,\n",
            "                   300, 100, 200, 300, 100, 200, 300, 100, 200, 300, 100,\n",
            "                   200, 300, 100, 200, 300, 100, 200, 300, 100, 200, 300,\n",
            "                   100, 200, 300, 100, 200, 300, 100, 200, 300, 100, 200,\n",
            "                   300, 100, 200, 300, 100, 200, 300, 100, 200, 300],\n",
            "             mask=[False, False, False, False, False, False, False, False,\n",
            "                   False, False, False, False, False, False, False, False,\n",
            "                   False, False, False, False, False, False, False, False,\n",
            "                   False, False, False, False, False, False, False, False,\n",
            "                   False, False, False, False, False, False, False, False,\n",
            "                   False, False, False, False, False, False, False, False,\n",
            "                   False, False, False, False, False, False],\n",
            "       fill_value='?',\n",
            "            dtype=object), 'params': [{'criterion': 'gini', 'max_depth': 20, 'min_samples_split': 2, 'n_estimators': 100}, {'criterion': 'gini', 'max_depth': 20, 'min_samples_split': 2, 'n_estimators': 200}, {'criterion': 'gini', 'max_depth': 20, 'min_samples_split': 2, 'n_estimators': 300}, {'criterion': 'gini', 'max_depth': 20, 'min_samples_split': 3, 'n_estimators': 100}, {'criterion': 'gini', 'max_depth': 20, 'min_samples_split': 3, 'n_estimators': 200}, {'criterion': 'gini', 'max_depth': 20, 'min_samples_split': 3, 'n_estimators': 300}, {'criterion': 'gini', 'max_depth': 20, 'min_samples_split': 4, 'n_estimators': 100}, {'criterion': 'gini', 'max_depth': 20, 'min_samples_split': 4, 'n_estimators': 200}, {'criterion': 'gini', 'max_depth': 20, 'min_samples_split': 4, 'n_estimators': 300}, {'criterion': 'gini', 'max_depth': 30, 'min_samples_split': 2, 'n_estimators': 100}, {'criterion': 'gini', 'max_depth': 30, 'min_samples_split': 2, 'n_estimators': 200}, {'criterion': 'gini', 'max_depth': 30, 'min_samples_split': 2, 'n_estimators': 300}, {'criterion': 'gini', 'max_depth': 30, 'min_samples_split': 3, 'n_estimators': 100}, {'criterion': 'gini', 'max_depth': 30, 'min_samples_split': 3, 'n_estimators': 200}, {'criterion': 'gini', 'max_depth': 30, 'min_samples_split': 3, 'n_estimators': 300}, {'criterion': 'gini', 'max_depth': 30, 'min_samples_split': 4, 'n_estimators': 100}, {'criterion': 'gini', 'max_depth': 30, 'min_samples_split': 4, 'n_estimators': 200}, {'criterion': 'gini', 'max_depth': 30, 'min_samples_split': 4, 'n_estimators': 300}, {'criterion': 'gini', 'max_depth': None, 'min_samples_split': 2, 'n_estimators': 100}, {'criterion': 'gini', 'max_depth': None, 'min_samples_split': 2, 'n_estimators': 200}, {'criterion': 'gini', 'max_depth': None, 'min_samples_split': 2, 'n_estimators': 300}, {'criterion': 'gini', 'max_depth': None, 'min_samples_split': 3, 'n_estimators': 100}, {'criterion': 'gini', 'max_depth': None, 'min_samples_split': 3, 'n_estimators': 200}, {'criterion': 'gini', 'max_depth': None, 'min_samples_split': 3, 'n_estimators': 300}, {'criterion': 'gini', 'max_depth': None, 'min_samples_split': 4, 'n_estimators': 100}, {'criterion': 'gini', 'max_depth': None, 'min_samples_split': 4, 'n_estimators': 200}, {'criterion': 'gini', 'max_depth': None, 'min_samples_split': 4, 'n_estimators': 300}, {'criterion': 'entropy', 'max_depth': 20, 'min_samples_split': 2, 'n_estimators': 100}, {'criterion': 'entropy', 'max_depth': 20, 'min_samples_split': 2, 'n_estimators': 200}, {'criterion': 'entropy', 'max_depth': 20, 'min_samples_split': 2, 'n_estimators': 300}, {'criterion': 'entropy', 'max_depth': 20, 'min_samples_split': 3, 'n_estimators': 100}, {'criterion': 'entropy', 'max_depth': 20, 'min_samples_split': 3, 'n_estimators': 200}, {'criterion': 'entropy', 'max_depth': 20, 'min_samples_split': 3, 'n_estimators': 300}, {'criterion': 'entropy', 'max_depth': 20, 'min_samples_split': 4, 'n_estimators': 100}, {'criterion': 'entropy', 'max_depth': 20, 'min_samples_split': 4, 'n_estimators': 200}, {'criterion': 'entropy', 'max_depth': 20, 'min_samples_split': 4, 'n_estimators': 300}, {'criterion': 'entropy', 'max_depth': 30, 'min_samples_split': 2, 'n_estimators': 100}, {'criterion': 'entropy', 'max_depth': 30, 'min_samples_split': 2, 'n_estimators': 200}, {'criterion': 'entropy', 'max_depth': 30, 'min_samples_split': 2, 'n_estimators': 300}, {'criterion': 'entropy', 'max_depth': 30, 'min_samples_split': 3, 'n_estimators': 100}, {'criterion': 'entropy', 'max_depth': 30, 'min_samples_split': 3, 'n_estimators': 200}, {'criterion': 'entropy', 'max_depth': 30, 'min_samples_split': 3, 'n_estimators': 300}, {'criterion': 'entropy', 'max_depth': 30, 'min_samples_split': 4, 'n_estimators': 100}, {'criterion': 'entropy', 'max_depth': 30, 'min_samples_split': 4, 'n_estimators': 200}, {'criterion': 'entropy', 'max_depth': 30, 'min_samples_split': 4, 'n_estimators': 300}, {'criterion': 'entropy', 'max_depth': None, 'min_samples_split': 2, 'n_estimators': 100}, {'criterion': 'entropy', 'max_depth': None, 'min_samples_split': 2, 'n_estimators': 200}, {'criterion': 'entropy', 'max_depth': None, 'min_samples_split': 2, 'n_estimators': 300}, {'criterion': 'entropy', 'max_depth': None, 'min_samples_split': 3, 'n_estimators': 100}, {'criterion': 'entropy', 'max_depth': None, 'min_samples_split': 3, 'n_estimators': 200}, {'criterion': 'entropy', 'max_depth': None, 'min_samples_split': 3, 'n_estimators': 300}, {'criterion': 'entropy', 'max_depth': None, 'min_samples_split': 4, 'n_estimators': 100}, {'criterion': 'entropy', 'max_depth': None, 'min_samples_split': 4, 'n_estimators': 200}, {'criterion': 'entropy', 'max_depth': None, 'min_samples_split': 4, 'n_estimators': 300}], 'split0_test_score': array([0.69427245, 0.68111455, 0.69427245, 0.6869969 , 0.7001548 ,\n",
            "       0.68111455, 0.69427245, 0.71331269, 0.6869969 , 0.69427245,\n",
            "       0.68111455, 0.68111455, 0.68111455, 0.6869969 , 0.68111455,\n",
            "       0.70603715, 0.69427245, 0.6869969 , 0.68111455, 0.6869969 ,\n",
            "       0.69427245, 0.69427245, 0.6869969 , 0.68111455, 0.6869969 ,\n",
            "       0.69287926, 0.68111455, 0.68111455, 0.69427245, 0.68111455,\n",
            "       0.7001548 , 0.69427245, 0.69427245, 0.6869969 , 0.69287926,\n",
            "       0.68111455, 0.69427245, 0.69427245, 0.69427245, 0.6869969 ,\n",
            "       0.68111455, 0.68111455, 0.6869969 , 0.68111455, 0.68111455,\n",
            "       0.7001548 , 0.68111455, 0.69427245, 0.6869969 , 0.68111455,\n",
            "       0.68111455, 0.6869969 , 0.69287926, 0.6869969 ]), 'split1_test_score': array([0.63575851, 0.64164087, 0.63575851, 0.63575851, 0.64164087,\n",
            "       0.64164087, 0.64164087, 0.63575851, 0.64164087, 0.63575851,\n",
            "       0.64752322, 0.64164087, 0.63575851, 0.63575851, 0.64164087,\n",
            "       0.64164087, 0.63575851, 0.64164087, 0.64164087, 0.63575851,\n",
            "       0.63575851, 0.63575851, 0.63575851, 0.64164087, 0.64164087,\n",
            "       0.64164087, 0.64164087, 0.64164087, 0.64164087, 0.63575851,\n",
            "       0.64164087, 0.64164087, 0.63575851, 0.64164087, 0.64164087,\n",
            "       0.64164087, 0.64164087, 0.64164087, 0.63575851, 0.64164087,\n",
            "       0.64752322, 0.64164087, 0.62987616, 0.64752322, 0.64164087,\n",
            "       0.64164087, 0.64164087, 0.64164087, 0.64164087, 0.63575851,\n",
            "       0.64164087, 0.64164087, 0.64164087, 0.64164087]), 'split2_test_score': array([0.66163004, 0.66849817, 0.68131868, 0.68131868, 0.66849817,\n",
            "       0.65567766, 0.67445055, 0.66163004, 0.66163004, 0.66849817,\n",
            "       0.65567766, 0.68131868, 0.67445055, 0.65567766, 0.65567766,\n",
            "       0.66163004, 0.66163004, 0.65567766, 0.66849817, 0.65567766,\n",
            "       0.66849817, 0.66849817, 0.67445055, 0.66849817, 0.66849817,\n",
            "       0.66163004, 0.67445055, 0.66849817, 0.66849817, 0.66849817,\n",
            "       0.66163004, 0.65567766, 0.66163004, 0.68040293, 0.67445055,\n",
            "       0.65567766, 0.66849817, 0.68131868, 0.67445055, 0.65567766,\n",
            "       0.68131868, 0.65567766, 0.66163004, 0.65567766, 0.66163004,\n",
            "       0.68131868, 0.66849817, 0.65567766, 0.67445055, 0.66849817,\n",
            "       0.66849817, 0.66849817, 0.66163004, 0.66163004]), 'split3_test_score': array([0.76007326, 0.77884615, 0.77289377, 0.77884615, 0.77884615,\n",
            "       0.79166667, 0.746337  , 0.76007326, 0.75915751, 0.77289377,\n",
            "       0.79761905, 0.77289377, 0.77884615, 0.77884615, 0.79075092,\n",
            "       0.77289377, 0.77197802, 0.79075092, 0.79258242, 0.76694139,\n",
            "       0.77884615, 0.76007326, 0.77884615, 0.77884615, 0.77884615,\n",
            "       0.76602564, 0.79166667, 0.73534799, 0.77884615, 0.77197802,\n",
            "       0.7779304 , 0.77197802, 0.76602564, 0.7779304 , 0.78388278,\n",
            "       0.76602564, 0.75320513, 0.77884615, 0.76007326, 0.76510989,\n",
            "       0.76694139, 0.77884615, 0.76510989, 0.76510989, 0.76510989,\n",
            "       0.75320513, 0.77289377, 0.76602564, 0.77289377, 0.76602564,\n",
            "       0.77884615, 0.76510989, 0.79075092, 0.75915751]), 'split4_test_score': array([0.70238095, 0.7202381 , 0.70112782, 0.71428571, 0.7202381 ,\n",
            "       0.71303258, 0.71303258, 0.72619048, 0.72619048, 0.70833333,\n",
            "       0.71428571, 0.7070802 , 0.7202381 , 0.71898496, 0.70112782,\n",
            "       0.70833333, 0.72619048, 0.71303258, 0.70112782, 0.70112782,\n",
            "       0.70112782, 0.71898496, 0.7070802 , 0.7202381 , 0.73214286,\n",
            "       0.71898496, 0.72619048, 0.7070802 , 0.7070802 , 0.72619048,\n",
            "       0.72619048, 0.72619048, 0.71303258, 0.71898496, 0.73809524,\n",
            "       0.71898496, 0.72619048, 0.72619048, 0.7070802 , 0.73934837,\n",
            "       0.73809524, 0.7202381 , 0.73214286, 0.73214286, 0.71303258,\n",
            "       0.72619048, 0.70112782, 0.71428571, 0.7202381 , 0.71898496,\n",
            "       0.7202381 , 0.72619048, 0.72493734, 0.71898496]), 'mean_test_score': array([0.69082304, 0.69806757, 0.69707425, 0.69944119, 0.70187562,\n",
            "       0.69662646, 0.69394669, 0.699393  , 0.69512316, 0.69595125,\n",
            "       0.69924404, 0.69680961, 0.69808157, 0.69525284, 0.69406236,\n",
            "       0.69810703, 0.6979659 , 0.69761978, 0.69699276, 0.68930046,\n",
            "       0.69570062, 0.69551747, 0.69662646, 0.69806757, 0.70162499,\n",
            "       0.69623215, 0.70301262, 0.68673635, 0.69806757, 0.69670795,\n",
            "       0.70150932, 0.69795189, 0.69414384, 0.70119121, 0.70618974,\n",
            "       0.69268874, 0.69676142, 0.70445372, 0.69432699, 0.69775474,\n",
            "       0.70299862, 0.69550346, 0.69515117, 0.69631363, 0.69250559,\n",
            "       0.70050199, 0.69305504, 0.69438046, 0.69924404, 0.69407637,\n",
            "       0.69806757, 0.69768726, 0.70236768, 0.69368206]), 'std_test_score': array([0.04201288, 0.04767062, 0.04422836, 0.047041  , 0.04691883,\n",
            "       0.0533716 , 0.0352849 , 0.04487615, 0.04269369, 0.04572335,\n",
            "       0.05441626, 0.0434147 , 0.04846503, 0.05044797, 0.05251217,\n",
            "       0.04534208, 0.04791266, 0.05275716, 0.051541  , 0.04510109,\n",
            "       0.04749253, 0.04247564, 0.04724143, 0.04767062, 0.04858788,\n",
            "       0.0437666 , 0.05188172, 0.0321708 , 0.046215  , 0.04751543,\n",
            "       0.04821984, 0.04743178, 0.04469852, 0.04557498, 0.04981018,\n",
            "       0.04512086, 0.03973725, 0.04602405, 0.040769  , 0.04754309,\n",
            "       0.04323633, 0.04950176, 0.04840164, 0.04534194, 0.04327359,\n",
            "       0.03813206, 0.04433605, 0.04429139, 0.04460464, 0.04476687,\n",
            "       0.04767062, 0.0435103 , 0.0524563 , 0.04173148]), 'rank_test_score': array([52, 17, 26, 11,  6, 31, 47, 12, 41, 35, 14, 28, 16, 39, 46, 15, 21,\n",
            "       25, 27, 53, 36, 37, 31, 17,  7, 34,  3, 54, 17, 30,  8, 22, 44,  9,\n",
            "        1, 50, 29,  2, 43, 23,  4, 38, 40, 33, 51, 10, 49, 42, 13, 45, 17,\n",
            "       24,  5, 48], dtype=int32)}\n",
            "{'criterion': 'entropy', 'max_depth': 20, 'min_samples_split': 4, 'n_estimators': 200}\n"
          ],
          "name": "stdout"
        }
      ]
    },
    {
      "cell_type": "code",
      "metadata": {
        "colab": {
          "base_uri": "https://localhost:8080/",
          "height": 17
        },
        "id": "YiZWFQxWNI6w",
        "outputId": "d836c78f-633f-4a90-fa2c-af1f7bbea15a"
      },
      "source": [
        "#best_clf = cv_res.best_estimator_\n",
        "best_clf = RandomForestClassifier(n_estimators=100, criterion='entropy', max_depth=20, min_samples_split=3)\n",
        "best_clf.fit(X_train, y_train)\n",
        "y_pred = best_clf.predict(X_test)\n",
        "y_pred_labels = []\n",
        "for i in range(0,len(y_pred)):\n",
        "  if y_pred[i]==1:\n",
        "    y_pred_labels.append('Y')\n",
        "  else:\n",
        "    y_pred_labels.append('N')\n",
        "df = pd.DataFrame()\n",
        "df['Loan_ID'] = test_data['Loan_ID']\n",
        "df['Loan_Status'] = y_pred_labels\n",
        "df.to_csv('Output.csv', index=False)\n",
        "files.download('Output.csv')\n",
        "\n",
        "#Result: Accuracy on test data - 0.76-0.78 depending on hyperparameter combinations"
      ],
      "execution_count": 95,
      "outputs": [
        {
          "output_type": "display_data",
          "data": {
            "application/javascript": [
              "\n",
              "    async function download(id, filename, size) {\n",
              "      if (!google.colab.kernel.accessAllowed) {\n",
              "        return;\n",
              "      }\n",
              "      const div = document.createElement('div');\n",
              "      const label = document.createElement('label');\n",
              "      label.textContent = `Downloading \"${filename}\": `;\n",
              "      div.appendChild(label);\n",
              "      const progress = document.createElement('progress');\n",
              "      progress.max = size;\n",
              "      div.appendChild(progress);\n",
              "      document.body.appendChild(div);\n",
              "\n",
              "      const buffers = [];\n",
              "      let downloaded = 0;\n",
              "\n",
              "      const channel = await google.colab.kernel.comms.open(id);\n",
              "      // Send a message to notify the kernel that we're ready.\n",
              "      channel.send({})\n",
              "\n",
              "      for await (const message of channel.messages) {\n",
              "        // Send a message to notify the kernel that we're ready.\n",
              "        channel.send({})\n",
              "        if (message.buffers) {\n",
              "          for (const buffer of message.buffers) {\n",
              "            buffers.push(buffer);\n",
              "            downloaded += buffer.byteLength;\n",
              "            progress.value = downloaded;\n",
              "          }\n",
              "        }\n",
              "      }\n",
              "      const blob = new Blob(buffers, {type: 'application/binary'});\n",
              "      const a = document.createElement('a');\n",
              "      a.href = window.URL.createObjectURL(blob);\n",
              "      a.download = filename;\n",
              "      div.appendChild(a);\n",
              "      a.click();\n",
              "      div.remove();\n",
              "    }\n",
              "  "
            ],
            "text/plain": [
              "<IPython.core.display.Javascript object>"
            ]
          },
          "metadata": {
            "tags": []
          }
        },
        {
          "output_type": "display_data",
          "data": {
            "application/javascript": [
              "download(\"download_82a00c27-d961-4abe-8f83-622e3609da9b\", \"Output.csv\", 4057)"
            ],
            "text/plain": [
              "<IPython.core.display.Javascript object>"
            ]
          },
          "metadata": {
            "tags": []
          }
        }
      ]
    },
    {
      "cell_type": "code",
      "metadata": {
        "colab": {
          "base_uri": "https://localhost:8080/"
        },
        "id": "AtiVZrBKkpRU",
        "outputId": "ea689d4c-6991-41d0-820d-283be7d85167"
      },
      "source": [
        "#Training XGBoost Classifier with GridSearch Cross Validation\n",
        "clf = XGBClassifier(learning_rate=0.1)\n",
        "param_grid = {'n_estimators':[50,75,100], 'max_depth':[2,3,5]}\n",
        "grid = GridSearchCV(estimator=clf, param_grid=param_grid, cv=5, n_jobs=-1, scoring=make_scorer(roc_auc_score))\n",
        "cv_res = grid.fit(X_train, y_train)\n",
        "print(cv_res.cv_results_)\n",
        "print(cv_res.best_params_)"
      ],
      "execution_count": 97,
      "outputs": [
        {
          "output_type": "stream",
          "text": [
            "{'mean_fit_time': array([0.08116207, 0.04152112, 0.04998646, 0.03809557, 0.0515933 ,\n",
            "       0.0614881 , 0.05032926, 0.06771421, 0.08670244]), 'std_fit_time': array([0.06175794, 0.00297393, 0.0021969 , 0.00303776, 0.00655459,\n",
            "       0.00058682, 0.003034  , 0.00060902, 0.00057249]), 'mean_score_time': array([0.00466266, 0.00364895, 0.00373807, 0.00430813, 0.00380473,\n",
            "       0.00395412, 0.00355439, 0.00372005, 0.00382848]), 'std_score_time': array([1.18859634e-03, 2.39535880e-04, 2.44962326e-04, 9.61838344e-04,\n",
            "       1.51696162e-04, 1.84485234e-04, 7.93681663e-05, 1.22037060e-04,\n",
            "       4.48891684e-04]), 'param_max_depth': masked_array(data=[2, 2, 2, 3, 3, 3, 5, 5, 5],\n",
            "             mask=[False, False, False, False, False, False, False, False,\n",
            "                   False],\n",
            "       fill_value='?',\n",
            "            dtype=object), 'param_n_estimators': masked_array(data=[50, 75, 100, 50, 75, 100, 50, 75, 100],\n",
            "             mask=[False, False, False, False, False, False, False, False,\n",
            "                   False],\n",
            "       fill_value='?',\n",
            "            dtype=object), 'params': [{'max_depth': 2, 'n_estimators': 50}, {'max_depth': 2, 'n_estimators': 75}, {'max_depth': 2, 'n_estimators': 100}, {'max_depth': 3, 'n_estimators': 50}, {'max_depth': 3, 'n_estimators': 75}, {'max_depth': 3, 'n_estimators': 100}, {'max_depth': 5, 'n_estimators': 50}, {'max_depth': 5, 'n_estimators': 75}, {'max_depth': 5, 'n_estimators': 100}], 'split0_test_score': array([0.70464396, 0.69876161, 0.69876161, 0.70464396, 0.70464396,\n",
            "       0.69876161, 0.6869969 , 0.67662539, 0.66486068]), 'split1_test_score': array([0.65340557, 0.65340557, 0.65340557, 0.66656347, 0.66068111,\n",
            "       0.66068111, 0.64752322, 0.66068111, 0.67383901]), 'split2_test_score': array([0.66758242, 0.66758242, 0.66758242, 0.66758242, 0.66758242,\n",
            "       0.68040293, 0.66163004, 0.68818681, 0.70695971]), 'split3_test_score': array([0.76419414, 0.76510989, 0.7967033 , 0.7760989 , 0.78388278,\n",
            "       0.78479853, 0.75824176, 0.75824176, 0.76510989]), 'split4_test_score': array([0.71773183, 0.71898496, 0.71898496, 0.72493734, 0.72493734,\n",
            "       0.7070802 , 0.69392231, 0.68796992, 0.69517544]), 'mean_test_score': array([0.70151158, 0.70076889, 0.70708757, 0.70796522, 0.70834552,\n",
            "       0.70634488, 0.68966284, 0.694341  , 0.70118895]), 'std_test_score': array([0.03915964, 0.03954806, 0.05036718, 0.04070911, 0.04456096,\n",
            "       0.04235844, 0.03818351, 0.0334921 , 0.03527921]), 'rank_test_score': array([5, 7, 3, 2, 1, 4, 9, 8, 6], dtype=int32)}\n",
            "{'max_depth': 3, 'n_estimators': 75}\n"
          ],
          "name": "stdout"
        }
      ]
    },
    {
      "cell_type": "code",
      "metadata": {
        "colab": {
          "base_uri": "https://localhost:8080/",
          "height": 17
        },
        "id": "UzoXZzCimaGk",
        "outputId": "4557c20c-f47b-4567-c2b7-420ed6756154"
      },
      "source": [
        "best_clf = cv_res.best_estimator_\n",
        "#best_clf = RandomForestClassifier(n_estimators=100, criterion='entropy', max_depth=20, min_samples_split=3)\n",
        "best_clf.fit(X_train, y_train)\n",
        "y_pred = best_clf.predict(X_test)\n",
        "y_pred_labels = []\n",
        "for i in range(0,len(y_pred)):\n",
        "  if y_pred[i]==1:\n",
        "    y_pred_labels.append('Y')\n",
        "  else:\n",
        "    y_pred_labels.append('N')\n",
        "df = pd.DataFrame()\n",
        "df['Loan_ID'] = test_data['Loan_ID']\n",
        "df['Loan_Status'] = y_pred_labels\n",
        "df.to_csv('Output.csv', index=False)\n",
        "files.download('Output.csv')\n",
        "\n",
        "#Result: Accuracy on leaderboard test data = 0.7986"
      ],
      "execution_count": 102,
      "outputs": [
        {
          "output_type": "display_data",
          "data": {
            "application/javascript": [
              "\n",
              "    async function download(id, filename, size) {\n",
              "      if (!google.colab.kernel.accessAllowed) {\n",
              "        return;\n",
              "      }\n",
              "      const div = document.createElement('div');\n",
              "      const label = document.createElement('label');\n",
              "      label.textContent = `Downloading \"${filename}\": `;\n",
              "      div.appendChild(label);\n",
              "      const progress = document.createElement('progress');\n",
              "      progress.max = size;\n",
              "      div.appendChild(progress);\n",
              "      document.body.appendChild(div);\n",
              "\n",
              "      const buffers = [];\n",
              "      let downloaded = 0;\n",
              "\n",
              "      const channel = await google.colab.kernel.comms.open(id);\n",
              "      // Send a message to notify the kernel that we're ready.\n",
              "      channel.send({})\n",
              "\n",
              "      for await (const message of channel.messages) {\n",
              "        // Send a message to notify the kernel that we're ready.\n",
              "        channel.send({})\n",
              "        if (message.buffers) {\n",
              "          for (const buffer of message.buffers) {\n",
              "            buffers.push(buffer);\n",
              "            downloaded += buffer.byteLength;\n",
              "            progress.value = downloaded;\n",
              "          }\n",
              "        }\n",
              "      }\n",
              "      const blob = new Blob(buffers, {type: 'application/binary'});\n",
              "      const a = document.createElement('a');\n",
              "      a.href = window.URL.createObjectURL(blob);\n",
              "      a.download = filename;\n",
              "      div.appendChild(a);\n",
              "      a.click();\n",
              "      div.remove();\n",
              "    }\n",
              "  "
            ],
            "text/plain": [
              "<IPython.core.display.Javascript object>"
            ]
          },
          "metadata": {
            "tags": []
          }
        },
        {
          "output_type": "display_data",
          "data": {
            "application/javascript": [
              "download(\"download_26b0be03-9b3a-4f02-b29d-b487e99eec0e\", \"Output.csv\", 4057)"
            ],
            "text/plain": [
              "<IPython.core.display.Javascript object>"
            ]
          },
          "metadata": {
            "tags": []
          }
        }
      ]
    }
  ]
}